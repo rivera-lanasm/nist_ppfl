{
 "cells": [
  {
   "cell_type": "markdown",
   "id": "2eae2d856cbe3ae",
   "metadata": {},
   "source": [
    "## NIST Genomics PPFL Red Team Exercise\n",
    "### Introductory tutorial for performing Membership Inference Attack on CNN trained on Soybean Genomics data\n",
    "#### List of topics covered in this tutorial:\n",
    "1. [Train Membership Attack Model using Adversarial Robustness Toolkit (ART) library.](#section-1)\n",
    "2. [Infer Membership Using Trained Attack Model](#section-2)"
   ]
  },
  {
   "cell_type": "markdown",
   "id": "c61d69a79660b255",
   "metadata": {},
   "source": [
    "### Import libraries"
   ]
  },
  {
   "cell_type": "code",
   "execution_count": 1,
   "id": "e84bb855cf13d69e",
   "metadata": {
    "ExecuteTime": {
     "end_time": "2025-03-09T17:05:44.296833Z",
     "start_time": "2025-03-09T17:05:44.287995Z"
    }
   },
   "outputs": [],
   "source": [
    "import os\n",
    "from pathlib import Path\n",
    "import numpy as np\n",
    "import pickle as pkl\n",
    "import json\n",
    "import torch\n",
    "import torch.nn as nn\n",
    "import torch.optim as optim\n",
    "from torchinfo import summary\n",
    "\n",
    "import matplotlib.pyplot as plt\n",
    "\n",
    "\n",
    "\n",
    "from art.attacks.inference.membership_inference import MembershipInferenceBlackBox\n",
    "from art.estimators.classification import PyTorchClassifier"
   ]
  },
  {
   "cell_type": "markdown",
   "id": "6bae06d863f7ac83",
   "metadata": {},
   "source": [
    "### Change Current Working Directory (CWD)"
   ]
  },
  {
   "cell_type": "code",
   "execution_count": 2,
   "id": "8cf76c1022ab760b",
   "metadata": {
    "ExecuteTime": {
     "end_time": "2025-03-09T17:05:44.869708Z",
     "start_time": "2025-03-09T17:05:44.862062Z"
    }
   },
   "outputs": [
    {
     "name": "stdout",
     "output_type": "stream",
     "text": [
      "CWD Before:  /home/rivlanm/projects/nist_ppfl/NIST_PPFL_problem1_202503/problem1/tutorial\n",
      "CWD After:  /home/rivlanm/projects/nist_ppfl/NIST_PPFL_problem1_202503/problem1\n"
     ]
    }
   ],
   "source": [
    "print('CWD Before: ', Path.cwd())\n",
    "# get current working directory\n",
    "project_dir = 'problem1'\n",
    "\n",
    "new_cwd = Path.cwd()\n",
    "if new_cwd.name != project_dir:\n",
    "    new_cwd = new_cwd.parent\n",
    "\n",
    "# Set new current working directory path\n",
    "os.chdir(new_cwd)\n",
    "print('CWD After: ', Path.cwd())"
   ]
  },
  {
   "cell_type": "markdown",
   "id": "1de0fb8e9645561",
   "metadata": {},
   "source": [
    "### Utility functions"
   ]
  },
  {
   "cell_type": "code",
   "execution_count": 3,
   "id": "e672eab5d381041f",
   "metadata": {
    "ExecuteTime": {
     "end_time": "2025-03-09T17:05:45.615689Z",
     "start_time": "2025-03-09T17:05:45.609108Z"
    }
   },
   "outputs": [],
   "source": [
    "def load_model(model_path: Path,\n",
    "               num_data_features: int,\n",
    "               model_type: str):\n",
    "    # import model class based on model type\n",
    "    if model_type == 'cnn':\n",
    "        from attack_targets.cnn.model import Net\n",
    "    elif model_type == 'dpcnn':\n",
    "        from attack_targets.dpcnn10.model import Net\n",
    "    # init model\n",
    "    model_class = Net\n",
    "    # create model instance\n",
    "    model = model_class(num_data_features) \n",
    "    # load model weights\n",
    "    model.load_state_dict(torch.load(model_path)) \n",
    "    model.eval()\n",
    "    return model\n",
    "\n",
    "def load_data(data_path: Path):\n",
    "    data = pkl.load(open(data_path, \"rb\"))\n",
    "    features = len(data[0]) - 1\n",
    "    # get feature (one-hot encoded gene variants) columns\n",
    "    x = data[:, :features]  \n",
    "    # get label/class (seed coat color) column\n",
    "    y = data[:, features] \n",
    "    return x, y\n",
    "\n",
    "def load_hyperparameters(hyperparameters_path: Path):\n",
    "    with open(hyperparameters_path, 'r') as f:\n",
    "        hyperparameters = json.load(f)\n",
    "    return hyperparameters"
   ]
  },
  {
   "cell_type": "markdown",
   "id": "f037c9c6cde0c3a1",
   "metadata": {},
   "source": [
    "<a id=\"section-1\"></a>\n",
    "## 1. [Train Membership Attack Model using Adversarial Robustness Toolkit (ART) library.](#section-1)\n",
    "[Link to ART Library](https://github.com/Trusted-AI/adversarial-robustness-toolbox)\n",
    "\n",
    "In this example we train an attack model to attack client 4 from the regular CNN models that have no added privacy.  Note that you should train a new attack model for each client model, and you can change the parameters below to attack different client models from different privacy settings.\n",
    "\n",
    "To help you test your solution locally, we've also included the answers (the true member records) for client 4 in the competitors pack.  At the end of this notebook, we will show how successful our attack was on the targeted client.\n",
    "\n",
    "First we will load the client model, and other required files and then train a Membership Inference Attack model using the relevant and external records data. \n",
    "\n",
    "The attack model will be trained to infer which of the given challenge records in the cnn_challenge_records file belong to the client 4."
   ]
  },
  {
   "cell_type": "markdown",
   "id": "822b2df1bfc7a51",
   "metadata": {},
   "source": [
    "### Program settings and declare paths\n",
    "\n",
    "\n",
    "#### Client Model \n",
    "- these are the client model torch file - learning paramters at the end of federated learning - allow us to initialize model at this state\n",
    "\n",
    "#### relevant records\n",
    "- in traditional membership inference attack, these are the records that the attacker is \"confident\" are records used to train the client model. In our case, the attacker is confident, but not certain, about whether these are true positives\n",
    "- in training attack model, these are the **true positives**\n",
    "    - **Question** how sensitive is attack to quality of these\n",
    "\n",
    "#### external records\n",
    "- in MI, these are the records the attacker is confidence are NOT in the client training set\n",
    "- in training attack model, these are the **true negatives**\n",
    "\n",
    "#### challenge records \n",
    "- this is the validation set - records we try to infer membership about for a given client\n"
   ]
  },
  {
   "cell_type": "code",
   "execution_count": 4,
   "id": "2cce2004",
   "metadata": {},
   "outputs": [],
   "source": [
    "# Competitor should change these values to train the attack on different client models.\n",
    "# To attack different clients competitors can change the client_id.  Competitors can change the model_type and privacy_type to test on different privacy levels. Challenge data answers are only provided for client_id 4.\n",
    "\n",
    "CLIENT_ID = '4'  # or '1', '2', '3'\n",
    "MODEL_TYPE = 'dpcnn'  # or 'dpcnn'\n",
    "PRIVACY_TYPE = 'dpcnn200'  # 'cnn' (no privacy), 'dpcnn10' (epsilon 10), dpcnn200 (epsilon 200)"
   ]
  },
  {
   "cell_type": "code",
   "execution_count": 6,
   "id": "3d79d55a75ba2d9c",
   "metadata": {
    "ExecuteTime": {
     "end_time": "2025-03-09T17:05:47.275062Z",
     "start_time": "2025-03-09T17:05:47.267551Z"
    }
   },
   "outputs": [],
   "source": [
    "# Set the client id, model type and privacy type to load files for a specific client model\n",
    "    # e.g. client_id = '4', model_type = 'cnn', privacy_type = 'cnn' --> will load the client 4 model files from cnn models.\n",
    "    # e.g. client_id = '4', model_type = 'dpcnn', privacy_type = 'dpcnn_epsilon_10' --> will load the client 4 model file from dpcnn_epsilon_10 models.\n",
    "\n",
    "# Declare required paths:\n",
    "# Client model directory path\n",
    "model_dir = Path(f'attack_targets/{PRIVACY_TYPE}/client_{CLIENT_ID}')\n",
    "# Client model (.torch) path\n",
    "model_path = Path(model_dir, f'{MODEL_TYPE}_{CLIENT_ID}.torch')\n",
    "# Path to relevant records data file for the client model\n",
    "relevant_data_path = Path(model_dir, f'{MODEL_TYPE}_{CLIENT_ID}_relevant_records.dat')\n",
    "# Path to external records data file for the client model\n",
    "external_data_path = Path(model_dir, f'{MODEL_TYPE}_{CLIENT_ID}_external_records.dat')\n",
    "# Path to challenge records data file for the client model\n",
    "challenge_data_path = Path(model_dir.parent, f'{PRIVACY_TYPE}_challenge_records.dat')\n",
    "# Path to hyperparameters file for the client model\n",
    "hyperparameters_path = Path(model_dir, f'{MODEL_TYPE}_{CLIENT_ID}_hyperparameters.json')"
   ]
  },
  {
   "cell_type": "markdown",
   "id": "150ff2f5519e6de8",
   "metadata": {},
   "source": [
    "### Load data and hyperparameters"
   ]
  },
  {
   "cell_type": "code",
   "execution_count": null,
   "id": "aedeabce25f1884",
   "metadata": {
    "ExecuteTime": {
     "end_time": "2025-03-09T17:05:48.454123Z",
     "start_time": "2025-03-09T17:05:48.376270Z"
    }
   },
   "outputs": [],
   "source": [
    "# # These are hyperparameters used for training the client model\n",
    "# hyperparams = load_hyperparameters(hyperparameters_path)\n",
    "# # Relevant records are those which an attacker might believe belongs to the client model. See problem statement for details.\n",
    "# rel_x, rel_y = load_data(relevant_data_path)\n",
    "\n",
    "# # External records are those which an attacker believes do not belong to the client model. See problem statement for details.\n",
    "# ext_x, ext_y = load_data(external_data_path)\n",
    "\n",
    "# # Challenge records are those for which the competitor need to classify. Each challenge record can be classified into 5 categories.\n",
    "# # If a challenge record belongs to the client model, the competitor should classify it as the client number (1, 2, 3, or 4). Otherwise, the competitor should classify it as 0 which means the record does not belong to any client model in the selected privacy level / privacy type.\n",
    "# challenge_x, challenge_y = load_data(challenge_data_path)"
   ]
  },
  {
   "cell_type": "markdown",
   "id": "b69bc5a9",
   "metadata": {},
   "source": [
    "### Hyperparameters\n"
   ]
  },
  {
   "cell_type": "code",
   "execution_count": 7,
   "id": "3c0ed3c8",
   "metadata": {},
   "outputs": [
    {
     "data": {
      "text/plain": [
       "{'batch divisor': 15,\n",
       " 'delta': 1e-05,\n",
       " 'epochs': 100,\n",
       " 'epsilon': 200.0,\n",
       " 'learning rate': 0.003,\n",
       " 'max grad norm': 2.0,\n",
       " 'model id': 4,\n",
       " 'optimizer': 'sgd',\n",
       " 'test fraction': 0.3,\n",
       " 'total classes': 4,\n",
       " 'weight decay': 0.0001}"
      ]
     },
     "execution_count": 7,
     "metadata": {},
     "output_type": "execute_result"
    }
   ],
   "source": [
    "# These are hyperparameters used for training the client model\n",
    "hyperparams = load_hyperparameters(hyperparameters_path)\n",
    "hyperparams"
   ]
  },
  {
   "cell_type": "markdown",
   "id": "fb04b5e6",
   "metadata": {},
   "source": [
    "# Load data\n",
    "\n",
    "#### Client 4\n",
    "\n",
    "**relevant records**\n",
    "- only 23 records, 125K features D=\n",
    "- class dist: 0:3, 1:4, 2:14, 3:2\n",
    "\n",
    "**relevant records**\n",
    "- 20 records, 125K \n",
    "- class dist: 0:5, 1:1, 2:14, 3:2 --> missing class 3"
   ]
  },
  {
   "cell_type": "code",
   "execution_count": 8,
   "id": "11411f73",
   "metadata": {},
   "outputs": [
    {
     "name": "stdout",
     "output_type": "stream",
     "text": [
      "(23, 125766)\n",
      "[0. 1. 2. 3.]\n",
      "[ 4  2 14  3]\n"
     ]
    }
   ],
   "source": [
    "# Relevant records are those which an attacker might believe belongs to the client model. See problem statement for details.\n",
    "rel_x, rel_y = load_data(relevant_data_path)\n",
    "\n",
    "print(rel_x.shape)\n",
    "\n",
    "# class distribution\n",
    "cl_dist = np.unique(rel_y, return_counts=True)\n",
    "print(cl_dist[0])\n",
    "print(cl_dist[1])\n"
   ]
  },
  {
   "cell_type": "markdown",
   "id": "84538b1b",
   "metadata": {},
   "source": [
    "### Let's try to understand what this data is\n",
    "\n",
    "Questions\n",
    "- how many one hot encoded was each original feature split into? always 4? it does not appear that way \n",
    "- in the original data, Each column represents a gene, and the value of the column indicates whether a given plant’s gene varies from the “default” value. For instance the value “A/T” indicates that the default value of the gene is “A”, but instead this plant has value “T”.\n"
   ]
  },
  {
   "cell_type": "code",
   "execution_count": 9,
   "id": "63532e1f",
   "metadata": {},
   "outputs": [
    {
     "name": "stdout",
     "output_type": "stream",
     "text": [
      "(4, 125766)\n"
     ]
    },
    {
     "data": {
      "image/png": "[encoded data removed]",
      "text/plain": [
       "<Figure size 1000x500 with 1 Axes>"
      ]
     },
     "metadata": {},
     "output_type": "display_data"
    }
   ],
   "source": [
    "# Assuming `data` is a (23, 125766) numpy array where each column represents a gene\n",
    "# Compute the proportion of records (samples) where each feature (gene) is active (1)\n",
    "feature_activation_rates = np.mean(rel_x[rel_y == 0], axis=0)\n",
    "print(rel_x[rel_y == 0].shape)\n",
    "# Plot histogram\n",
    "plt.figure(figsize=(10, 5))\n",
    "plt.hist(feature_activation_rates, bins=25, color=\"blue\", alpha=0.7)\n",
    "plt.xlabel(\"Proportion of Records with Feature Val=1\")\n",
    "plt.ylabel(\"Number of Genes\")\n",
    "plt.title(\"Overall Distribution of Gene Expression Across Relevant record Samples\")\n",
    "plt.show()\n"
   ]
  },
  {
   "cell_type": "code",
   "execution_count": 10,
   "id": "e81512c5",
   "metadata": {},
   "outputs": [
    {
     "name": "stdout",
     "output_type": "stream",
     "text": [
      "(2, 125766)\n"
     ]
    },
    {
     "data": {
      "image/png": "[encoded data removed]",
      "text/plain": [
       "<Figure size 1000x500 with 1 Axes>"
      ]
     },
     "metadata": {},
     "output_type": "display_data"
    }
   ],
   "source": [
    "# Assuming `data` is a (23, 125766) numpy array where each column represents a gene\n",
    "# Compute the proportion of records (samples) where each feature (gene) is active (1)\n",
    "feature_activation_rates = np.mean(rel_x[rel_y == 1], axis=0)\n",
    "print(rel_x[rel_y == 1].shape)\n",
    "# Plot histogram\n",
    "plt.figure(figsize=(10, 5))\n",
    "plt.hist(feature_activation_rates, bins=25, color=\"blue\", alpha=0.7)\n",
    "plt.xlabel(\"Proportion of Records with Feature Val=1\")\n",
    "plt.ylabel(\"Number of Genes\")\n",
    "plt.title(\"Overall Distribution of Gene Expression Across Relevant record Samples\")\n",
    "plt.show()\n"
   ]
  },
  {
   "cell_type": "code",
   "execution_count": 26,
   "id": "9b61bff6",
   "metadata": {},
   "outputs": [
    {
     "name": "stdout",
     "output_type": "stream",
     "text": [
      "(14, 125766)\n"
     ]
    },
    {
     "data": {
      "image/png": "[encoded data removed]",
      "text/plain": [
       "<Figure size 1000x500 with 1 Axes>"
      ]
     },
     "metadata": {},
     "output_type": "display_data"
    }
   ],
   "source": [
    "# Assuming `data` is a (23, 125766) numpy array where each column represents a gene\n",
    "# Compute the proportion of records (samples) where each feature (gene) is active (1)\n",
    "feature_activation_rates = np.mean(rel_x[rel_y == 2], axis=0)\n",
    "print(rel_x[rel_y == 2].shape)\n",
    "# Plot histogram\n",
    "plt.figure(figsize=(10, 5))\n",
    "plt.hist(feature_activation_rates, bins=25, color=\"blue\", alpha=0.7)\n",
    "plt.xlabel(\"Proportion of Records with Feature Val=1\")\n",
    "plt.ylabel(\"Number of Genes\")\n",
    "plt.title(\"Class 3: Distribution of Feature Expression Across Relevant Data\")\n",
    "plt.show()\n"
   ]
  },
  {
   "cell_type": "code",
   "execution_count": 12,
   "id": "f949f763",
   "metadata": {},
   "outputs": [
    {
     "name": "stdout",
     "output_type": "stream",
     "text": [
      "(3, 125766)\n"
     ]
    },
    {
     "data": {
      "image/png": "[encoded data removed]",
      "text/plain": [
       "<Figure size 1000x500 with 1 Axes>"
      ]
     },
     "metadata": {},
     "output_type": "display_data"
    }
   ],
   "source": [
    "# Assuming `data` is a (23, 125766) numpy array where each column represents a gene\n",
    "# Compute the proportion of records (samples) where each feature (gene) is active (1)\n",
    "feature_activation_rates = np.mean(rel_x[rel_y == 3], axis=0)\n",
    "print(rel_x[rel_y == 3].shape)\n",
    "# Plot histogram\n",
    "plt.figure(figsize=(10, 5))\n",
    "plt.hist(feature_activation_rates, bins=25, color=\"blue\", alpha=0.7)\n",
    "plt.xlabel(\"Proportion of Records with Feature Val=1\")\n",
    "plt.ylabel(\"Number of Genes\")\n",
    "plt.title(\"Overall Distribution of Gene Expression Across Relevant record Samples\")\n",
    "plt.show()\n"
   ]
  },
  {
   "cell_type": "code",
   "execution_count": 13,
   "id": "5690f944",
   "metadata": {},
   "outputs": [
    {
     "name": "stdout",
     "output_type": "stream",
     "text": [
      "(20, 125766)\n",
      "[0. 1. 2. 3.]\n",
      "[ 2  2 12  4]\n"
     ]
    }
   ],
   "source": [
    "# External records are those which an attacker believes do not belong to the client model. See problem statement for details.\n",
    "ext_x, ext_y = load_data(external_data_path)\n",
    "print(ext_x.shape)\n",
    "\n",
    "# class distribution\n",
    "cl_dist = np.unique(ext_y, return_counts=True)\n",
    "print(cl_dist[0])\n",
    "print(cl_dist[1])"
   ]
  },
  {
   "cell_type": "markdown",
   "id": "469552c4",
   "metadata": {},
   "source": [
    "### Challenge Records \n",
    "- If a challenge record belongs to the client model, the competitor should classify it as the client number (1, 2, 3, or 4)..otherwise 0 \n"
   ]
  },
  {
   "cell_type": "code",
   "execution_count": 14,
   "id": "040f24d2",
   "metadata": {},
   "outputs": [
    {
     "name": "stdout",
     "output_type": "stream",
     "text": [
      "attack_targets/dpcnn200/dpcnn200_challenge_records.dat\n",
      "(73, 125766)\n",
      "[0. 1. 2. 3.]\n",
      "[15  5 50  3]\n"
     ]
    }
   ],
   "source": [
    "# Challenge records are those for which the competitor need to classify. \n",
    "#   Each challenge record can be classified into 5 categories.\n",
    "\n",
    "# If a challenge record belongs to the client model, the competitor should classify it as the client number (1, 2, 3, or 4). \n",
    "#   Otherwise, the competitor should classify it as 0 --> which means the record does not belong to any client model in the selected privacy level / privacy type.\n",
    "\n",
    "print(challenge_data_path)\n",
    "challenge_x, challenge_y = load_data(challenge_data_path)\n",
    "\n",
    "print(challenge_x.shape)\n",
    "\n",
    "# class distribution --> these are the original outcome classes \n",
    "cl_dist = np.unique(challenge_y, return_counts=True)\n",
    "print(cl_dist[0])\n",
    "print(cl_dist[1])"
   ]
  },
  {
   "cell_type": "markdown",
   "id": "ed56b92e6b1b5881",
   "metadata": {},
   "source": [
    "### Load client task model\n",
    "\n",
    "#### CNN:\n",
    "- Total Model Size: ~673 MB (heavy for a 1D CNN).\n",
    "- High Memory Use: Forward/backward passes take ~625 MB.\n",
    "- the fully connected layers seem to be a major bottleneck.\n",
    "- **architecture**\n",
    "    - First 1-D CNN maps size 10 kernel is used to capture basic low-level features \n",
    "        - we know the number of kernels given the output shape of 1st conv1d layer --> [73, 10, 125757]  \n",
    "        - we know the size of 1d kernel is 10 given the difference between input shape (125766) and output shape (125757)\n",
    "    - Second 1-D CNN has kernel size 8 and stride 1, reduces number of channels from 10 to 8 \n",
    "- **Questions**\n",
    "    - is it worth understanding where the first 1d Conv layer's kernels tend to activate (what low level patters are they learning)?\n"
   ]
  },
  {
   "cell_type": "code",
   "execution_count": 15,
   "id": "7015b28e330796f0",
   "metadata": {
    "ExecuteTime": {
     "end_time": "2025-03-09T17:05:49.569692Z",
     "start_time": "2025-03-09T17:05:49.479480Z"
    }
   },
   "outputs": [],
   "source": [
    "task_model = load_model(model_path, rel_x.shape[1], MODEL_TYPE)\n"
   ]
  },
  {
   "cell_type": "code",
   "execution_count": 16,
   "id": "d2abcf05",
   "metadata": {},
   "outputs": [
    {
     "data": {
      "text/plain": [
       "==========================================================================================\n",
       "Layer (type:depth-idx)                   Output Shape              Param #\n",
       "==========================================================================================\n",
       "Net                                      [73, 4]                   --\n",
       "├─Conv1d: 1-1                            [73, 10, 125757]          110\n",
       "├─ReLU: 1-2                              [73, 10, 125757]          --\n",
       "├─Dropout: 1-3                           [73, 10, 125757]          --\n",
       "├─Conv1d: 1-4                            [73, 8, 125750]           648\n",
       "├─Dropout: 1-5                           [73, 8, 125750]           --\n",
       "├─Conv1d: 1-6                            [73, 6, 125745]           294\n",
       "├─MaxPool1d: 1-7                         [73, 6, 62872]            --\n",
       "├─LayerNorm: 1-8                         [73, 6, 62872]            754,464\n",
       "├─Linear: 1-9                            [73, 24]                  9,053,592\n",
       "├─Linear: 1-10                           [73, 16]                  400\n",
       "├─Linear: 1-11                           [73, 4]                   68\n",
       "├─LayerNorm: 1-12                        [73, 4]                   8\n",
       "==========================================================================================\n",
       "Total params: 9,809,584\n",
       "Trainable params: 9,809,584\n",
       "Non-trainable params: 0\n",
       "Total mult-adds (Units.GIGABYTES): 10.37\n",
       "==========================================================================================\n",
       "Input size (MB): 36.72\n",
       "Forward/backward pass size (MB): 1982.87\n",
       "Params size (MB): 39.24\n",
       "Estimated Total Size (MB): 2058.83\n",
       "=========================================================================================="
      ]
     },
     "execution_count": 16,
     "metadata": {},
     "output_type": "execute_result"
    }
   ],
   "source": [
    "summary(task_model, input_size=(challenge_x.shape[0], 1, 125766))\n"
   ]
  },
  {
   "cell_type": "code",
   "execution_count": null,
   "id": "8bd4fa20",
   "metadata": {},
   "outputs": [
    {
     "name": "stdout",
     "output_type": "stream",
     "text": [
      "torch.Size([10, 1, 10])\n",
      "0.2\n",
      "0.1\n",
      "torch.Size([8, 10, 8])\n"
     ]
    }
   ],
   "source": [
    "# size of conv1d kernel \n",
    "print(task_model.conv1.weight.shape)\n",
    "# first droput\n",
    "print(task_model.dropout1.p)\n",
    "# second conv1d\n",
    "print(task_model.dropout2.p)\n",
    "\n",
    "print(task_model.conv2.weight.shape)\n"
   ]
  },
  {
   "cell_type": "code",
   "execution_count": 18,
   "id": "ecb086d2",
   "metadata": {},
   "outputs": [
    {
     "data": {
      "text/plain": [
       "Net(\n",
       "  (conv1): Conv1d(1, 10, kernel_size=(10,), stride=(1,))\n",
       "  (relu1): ReLU()\n",
       "  (dropout1): Dropout(p=0.2, inplace=False)\n",
       "  (conv2): Conv1d(10, 8, kernel_size=(8,), stride=(1,))\n",
       "  (dropout2): Dropout(p=0.1, inplace=False)\n",
       "  (conv3): Conv1d(8, 6, kernel_size=(6,), stride=(1,))\n",
       "  (pool): MaxPool1d(kernel_size=2, stride=2, padding=0, dilation=1, ceil_mode=False)\n",
       "  (ln1): LayerNorm((6, 62872), eps=1e-05, elementwise_affine=True)\n",
       "  (fc1): Linear(in_features=377232, out_features=24, bias=True)\n",
       "  (fc2): Linear(in_features=24, out_features=16, bias=True)\n",
       "  (fc3): Linear(in_features=16, out_features=4, bias=True)\n",
       "  (ln2): LayerNorm((4,), eps=1e-05, elementwise_affine=True)\n",
       ")"
      ]
     },
     "execution_count": 18,
     "metadata": {},
     "output_type": "execute_result"
    }
   ],
   "source": [
    "task_model"
   ]
  },
  {
   "cell_type": "markdown",
   "id": "618c09b690a15954",
   "metadata": {},
   "source": [
    "# ============================================\n",
    "# Initialized membership attack model\n",
    "# ============================================\n"
   ]
  },
  {
   "cell_type": "code",
   "execution_count": 19,
   "id": "3857b457",
   "metadata": {},
   "outputs": [
    {
     "name": "stdout",
     "output_type": "stream",
     "text": [
      "optimizer sgd\n",
      "learning_rate 0.003\n",
      "weight_decay 0.0001\n",
      "num_classes 4\n"
     ]
    }
   ],
   "source": [
    "# Define loss and other required hyperparameters\n",
    "criterion = nn.CrossEntropyLoss()\n",
    "optimizer_name = hyperparams['optimizer']\n",
    "learning_rate = hyperparams['learning rate']\n",
    "weight_decay = hyperparams['weight decay']\n",
    "num_classes = hyperparams['total classes']\n",
    "\n",
    "print(\"optimizer\", optimizer_name)\n",
    "print(\"learning_rate\", learning_rate)\n",
    "print(\"weight_decay\", weight_decay)\n",
    "# number of classes here refers to the soybean classes\n",
    "print(\"num_classes\", num_classes)"
   ]
  },
  {
   "cell_type": "code",
   "execution_count": null,
   "id": "29e953ebc1dc4cc",
   "metadata": {
    "ExecuteTime": {
     "end_time": "2025-03-09T17:06:38.836400Z",
     "start_time": "2025-03-09T17:06:38.826766Z"
    }
   },
   "outputs": [],
   "source": [
    "# Wrap client model in the ART PyTorch classifier\n",
    "\n",
    "# Select optimizer\n",
    "if optimizer_name == 'sgd':\n",
    "    optimizer = optim.SGD(task_model.parameters(), lr=learning_rate, weight_decay=weight_decay)\n",
    "else:\n",
    "    optimizer = optim.Adamax(task_model.parameters(), lr=learning_rate,  weight_decay=weight_decay)\n",
    "\n",
    "# Wrap client model in PyTorchClassifier\n",
    "classifier = PyTorchClassifier(\n",
    "    model=task_model,\n",
    "    loss=criterion,\n",
    "    optimizer=optimizer,\n",
    "    input_shape=(rel_x.shape[1],),\n",
    "    nb_classes=num_classes\n",
    "    )\n",
    "\n",
    "# Membership Inference Attack model hyperparameters\n",
    "attack_model_type = 'nn'\n",
    "attack_model_epochs = 100\n",
    "attack_model_batch_size = 100\n",
    "attack_model_learning_rate = 0.03\n",
    "\n",
    "# Create Membership Inference Black Box attack object\n",
    "attack_model = MembershipInferenceBlackBox(\n",
    "    # this is an initialized version of Client N's classification model\n",
    "    classifier,\n",
    "    # attack model will be a nn\n",
    "    attack_model_type=attack_model_type,\n",
    "    # 100\n",
    "    nn_model_epochs=attack_model_epochs,\n",
    "    # 100\n",
    "    nn_model_batch_size=attack_model_batch_size,\n",
    "    # 0.03\n",
    "    nn_model_learning_rate=attack_model_learning_rate\n",
    ")"
   ]
  },
  {
   "cell_type": "markdown",
   "id": "3e9f1b4b4a6a8a64",
   "metadata": {},
   "source": [
    "### Train membership attack model"
   ]
  },
  {
   "cell_type": "code",
   "execution_count": null,
   "id": "c0743aab1749dd19",
   "metadata": {
    "ExecuteTime": {
     "end_time": "2025-03-09T17:06:40.405287Z",
     "start_time": "2025-03-09T17:06:39.748939Z"
    }
   },
   "outputs": [],
   "source": [
    "# Get client model's predictions on relevant and external data\n",
    "rel_x_preds = task_model(rel_x).squeeze()\n",
    "ext_x_preds = task_model(ext_x).squeeze()\n",
    "rel_x_preds = rel_x_preds.detach().numpy()\n",
    "ext_x_preds = ext_x_preds.detach().numpy()\n",
    "\n",
    "# Train attack model by passing relevant set as x and external set as test_x\n",
    "attack_model.fit(\n",
    "    # features from relevant records \n",
    "    x=rel_x,\n",
    "    # outcome (soybean class) labels from relevant records\n",
    "    y=rel_y,\n",
    "    # features from external records\n",
    "    test_x=ext_x,\n",
    "    # outcome (soybean class) labels from external records\n",
    "    test_y=ext_y,\n",
    "    # prediction (logits) from pre trained classifier (for a given client) on relevant records \n",
    "    pred=rel_x_preds,\n",
    "    # prediction (logits) from pre trained classifier (for a given client) on external records \n",
    "    test_pred=ext_x_preds\n",
    ")"
   ]
  },
  {
   "cell_type": "markdown",
   "id": "3e242e7daa417b30",
   "metadata": {},
   "source": [
    "<a id=\"section-2\"></a>\n",
    "## 2. [Infer Membership Using Trained Attack Model](#section-2)\n",
    "In this section we first check the trained attack model's membership predictions on the relevant and external data (Inference and Performance of Attack Model).  Remember from the problem statement: we know that none of the external records are members of the targeted client's training data.   But because the attacker's knowledge is realistically imperfect, the relevant records contain a mix of true member records and other records.  Ideally the attack model should predict that none of the external records are members, and it should predict that only the true members in the relevant records are members.\n",
    "\n",
    "Next we get the attack model's predictions for the challenge records (Attack Predictions on Challenge Records).  This produces a list of the indices of the challenge records that the attack model believes belong to the targeted client_id.  Note that when you repeat this process to  train different attack models for different clients, their predictions may have conflicts you'll need to resolve.  If client 3 and client 4 both believe that challenge record 37 is a member of their training data, you'll need to decide which client to assign the record to.\n",
    "\n",
    "Finally, we've provided the true answers for client 4, so if client_id = 4 we can check the attack model's predictions for it against the ground truth (Confirm Answers for Public Demonstration Model). The challenge_members file contains the challenge records that belong to client 4, and the relevant_members file contains the relevant records that belong to client 4.  Note that the ART model's performance isn't as good as it could be.  There's a very good chance you can find, create or configure an attack model that does better."
   ]
  },
  {
   "cell_type": "markdown",
   "id": "62c184c7aa8db3ef",
   "metadata": {},
   "source": [
    "### Inference and performance of attack model\n",
    "\n",
    "\n",
    "- we don't mess up at all on the external records (by incorrectly inferring membership) nor on the relevant records (by incorrectly NOT inferring membership)"
   ]
  },
  {
   "cell_type": "code",
   "execution_count": 22,
   "id": "ec8e2f57be7aaf39",
   "metadata": {
    "ExecuteTime": {
     "end_time": "2025-03-09T17:06:41.553077Z",
     "start_time": "2025-03-09T17:06:41.327957Z"
    }
   },
   "outputs": [
    {
     "name": "stdout",
     "output_type": "stream",
     "text": [
      "Attack Model Accuracy on External Data:  1.0\n"
     ]
    }
   ],
   "source": [
    "# Infer membership on relevant and external data\n",
    "atk_rel_preds = attack_model.infer(x=rel_x, y=rel_y)\n",
    "atk_ext_preds = attack_model.infer(x=ext_x, y=ext_y)\n",
    "\n",
    "# external data for an attack model only has non-members records.\n",
    "# Find the number of non-members predicted by the attack model\n",
    "external_correct = np.sum((atk_ext_preds == 0))\n",
    "\n",
    "# Calculate accuracy on external data\n",
    "external_accuracy = external_correct / len(atk_ext_preds)\n",
    "\n",
    "print('Attack Model Accuracy on External Data: ', round(external_accuracy, 2))"
   ]
  },
  {
   "cell_type": "code",
   "execution_count": 23,
   "id": "683f4ce0a8d184a0",
   "metadata": {
    "ExecuteTime": {
     "end_time": "2025-03-09T17:06:42.857445Z",
     "start_time": "2025-03-09T17:06:42.851777Z"
    }
   },
   "outputs": [
    {
     "name": "stdout",
     "output_type": "stream",
     "text": [
      "Number of records predicted as members in relevant data:  22\n",
      "Total Relevant Records:  23\n"
     ]
    }
   ],
   "source": [
    "# Find number of relevant records that are predicted as members by the attack model\n",
    "\n",
    "relevant_predicted_members = np.sum((atk_rel_preds == 1))\n",
    "print('Number of records predicted as members in relevant data: ', relevant_predicted_members)\n",
    "print('Total Relevant Records: ', len(atk_rel_preds))"
   ]
  },
  {
   "cell_type": "markdown",
   "id": "b903b5fd792bd736",
   "metadata": {},
   "source": [
    "### Attack model predictions on challenge records"
   ]
  },
  {
   "cell_type": "code",
   "execution_count": 24,
   "id": "77717c6d1f6a433d",
   "metadata": {
    "ExecuteTime": {
     "end_time": "2025-03-09T17:06:47.316732Z",
     "start_time": "2025-03-09T17:06:46.969886Z"
    }
   },
   "outputs": [
    {
     "name": "stdout",
     "output_type": "stream",
     "text": [
      "Indices of Challenge Data Records predicted as members: \n",
      " [ 1  2 10 13 16 17 19 20 22 24 25 27 30 32 43 44 45 48 50 52 54 55 56 57\n",
      " 58 59 60 65 66 67 68 70 71 72]\n"
     ]
    }
   ],
   "source": [
    "# Find indices of challenge data records that are predicted as members by the attack model\n",
    "challenge_pred = attack_model.infer(x=challenge_x, y=challenge_y)\n",
    "challenge_members_indices = np.where(challenge_pred.squeeze() == 1)[0]\n",
    "print('Indices of Challenge Data Records predicted as members: \\n', challenge_members_indices)"
   ]
  },
  {
   "cell_type": "markdown",
   "id": "94dff2262c3f4f7b",
   "metadata": {},
   "source": [
    "Note on Data Submission:\n",
    "\n",
    "The list above contains the indices of the challenge records that the attack model has identified as potential members of the client_id task model. If you believe these indices correspond to actual member records of the tested client model, you should enter it as your prediction for that challenge record in the problem's submission_file.\n",
    "\n",
    "The submission file consists of two columns: the first column is the challenge record index, and the second column is the prediction. If you believe the record was a member of some client's training data, enter the client number (1, 2, 3, 4) . However, if you determine that a challenge data index does not belong to any client model, enter '0' as the prediction for that index."
   ]
  },
  {
   "cell_type": "markdown",
   "id": "2b141f72a373e2a2",
   "metadata": {},
   "source": [
    "### Confirm Answers for Public Demonstration Model\n"
   ]
  },
  {
   "cell_type": "code",
   "execution_count": 25,
   "id": "ee1c38dbfd8f95d",
   "metadata": {
    "ExecuteTime": {
     "end_time": "2025-03-09T17:10:47.201841Z",
     "start_time": "2025-03-09T17:10:46.716755Z"
    }
   },
   "outputs": [
    {
     "name": "stdout",
     "output_type": "stream",
     "text": [
      "number of positive instances among challenge members: 2\n",
      "number of positive instances among relevant_members: 11\n",
      "Percentage of True Client 4 Members that Attack Model predicted as Members --> (Recall)\n",
      "Positive Class Recall In Relevant Records:  100.0%\n",
      "Positive Class Recall In Challenge Records:  50.0%\n",
      "Percentage of True Client 4 Non-members that Attack Model predicted as Non-members\n",
      "Negative Class Recall: In Relevant Records:  8.33%\n",
      "Negative Class Recall: In Challenge Records:  53.52%\n"
     ]
    }
   ],
   "source": [
    "if CLIENT_ID == '4':\n",
    "    # load challenge data answers for client 4\n",
    "\n",
    "    # Challenge data members are indices of the challenge records of the client model\n",
    "    challenge_members_path = Path(model_dir, f'{MODEL_TYPE}_{CLIENT_ID}_challenge_members.json')\n",
    "    \n",
    "    # Relevant members are indices of the relevant records that are actual members of the client model\n",
    "    relevant_members_path = Path(model_dir, f'{MODEL_TYPE}_{CLIENT_ID}_relevant_members.json')\n",
    "\n",
    "    # Load Challenge member indices and relevant member indices\n",
    "    with open(challenge_members_path, 'r') as f:\n",
    "        challenge_members_dict = json.load(f)\n",
    "    challenge_members = list(challenge_members_dict['challenge members'])\n",
    "    print(\"number of positive instances among challenge members: {}\".format(len(challenge_members)))\n",
    "\n",
    "    with open(relevant_members_path, 'r') as f:\n",
    "        relevant_members_dict = json.load(f)\n",
    "    relevant_members = list(relevant_members_dict['relevant members'])\n",
    "    print(\"number of positive instances among relevant_members: {}\".format(len(relevant_members)))\n",
    "\n",
    "    # =====================================================\n",
    "    # RELEVANT DATA\n",
    "\n",
    "    # Get true client 4 member in relevant data\n",
    "    true_client_4_members_x = rel_x[relevant_members]\n",
    "    true_client_4_members_y = rel_y[relevant_members]\n",
    "\n",
    "    print('Percentage of True Client 4 Members that Attack Model predicted as Members --> (Recall)')\n",
    "    # Infer membership on true client 4 members\n",
    "    preds = attack_model.infer(x=true_client_4_members_x, y=true_client_4_members_y)\n",
    "    # print(preds)\n",
    "    true_members_correct = np.sum((preds == 1))\n",
    "\n",
    "    # Calculate percentage of predicting true members as members by the attack model\n",
    "    true_members_percentage = (true_members_correct / len(preds)) * 100\n",
    "    print('Positive Class Recall In Relevant Records: ', f'{round(true_members_percentage, 2)}%')\n",
    "\n",
    "    # =====================================================\n",
    "    # Get true client 4 members in challenge data\n",
    "    true_client_4_members_x = challenge_x[challenge_members]\n",
    "    true_client_4_members_y = challenge_y[challenge_members]\n",
    "\n",
    "    # Infer membership on true client 4 members\n",
    "    preds = attack_model.infer(x=true_client_4_members_x, y=true_client_4_members_y)\n",
    "    true_members_correct = np.sum((preds == 1))\n",
    "\n",
    "    # print('Among Challenge Data --> Percentage of True Client 4 Members that Attack Model predicted as Members --> (Recall)')\n",
    "\n",
    "    # Calculate percentage of predicting true members as members by the attack model\n",
    "    true_members_percentage = (true_members_correct / len(preds)) * 100\n",
    "    print('Positive Class Recall In Challenge Records: ', f'{round(true_members_percentage, 2)}%')\n",
    "\n",
    "    # =====================================================\n",
    "    print('Percentage of True Client 4 Non-members that Attack Model predicted as Non-members')\n",
    "    # Get true client 4 non-members in relevant data\n",
    "    non_member_indices = list(set(range(rel_x.shape[0])) - set(relevant_members))\n",
    "    true_client_4_non_members_x = rel_x[non_member_indices]\n",
    "    true_client_4_non_members_y = rel_y[non_member_indices]\n",
    "\n",
    "    # Infer membership on true client 4 non-members\n",
    "    preds = attack_model.infer(x=true_client_4_non_members_x, y=true_client_4_non_members_y)\n",
    "    true_non_members_correct = np.sum((preds == 0))\n",
    "\n",
    "    # Calculate percentage of predicting true non-members as non-members by the attack model\n",
    "    true_non_members_percentage = (true_non_members_correct / len(preds)) * 100\n",
    "    print('Negative Class Recall: In Relevant Records: ', f'{round(true_non_members_percentage, 2)}%')\n",
    "\n",
    "    # =====================================================\n",
    "    # Get true client 4 non-members in challenge data\n",
    "    non_member_indices = list(set(range(challenge_x.shape[0])) - set(challenge_members))\n",
    "    true_client_4_non_members_x = challenge_x[non_member_indices]\n",
    "    true_client_4_non_members_y = challenge_y[non_member_indices]\n",
    "\n",
    "    # Infer membership on true client 4 non-members\n",
    "    preds = attack_model.infer(x=true_client_4_non_members_x, y=true_client_4_non_members_y)\n",
    "    true_non_members_correct = np.sum((preds == 0))\n",
    "    # Calculate percentage of predicting true non-members as non-members by the attack model\n",
    "    true_non_members_percentage = (true_non_members_correct / len(preds)) * 100\n",
    "    print('Negative Class Recall: In Challenge Records: ', f'{round(true_non_members_percentage, 2)}%')\n",
    "else:\n",
    "    print('Error: Membership answers are only provided for client 4. Your client_id is set to:', CLIENT_ID)"
   ]
  },
  {
   "cell_type": "markdown",
   "id": "1317062d29a33b0",
   "metadata": {},
   "source": [
    "### Next Steps\n",
    "\n",
    "- We've just trained an ART attack model for client 4 in the CNN models.  Well done!\n",
    "\n",
    "- Once you've trained an attack model for every client, you can decide on a final membership prediction for every challenge record in the cnn_challenge_records.dat: Predicting client 1, 2, 3, 4 or use 0 for records that are not a member of any client's training data. Enter these predictions into the cnn_submision_file.csv.\n",
    "\n",
    "- Does differential privacy make your attacks less successful? \n",
    "    - Change the configuration at the top of the notebook to try out this process for the the dpcnn10 and dpcnn200 models. \n",
    "\n",
    "- Once you've made your predictions for all three cases (using each case's challenge_records and submission_files), you can submit your attack using the google form on the website's Submit tab.\n",
    "\n",
    "- But this notebook just shows one configuration of the ART library. To encourage you to try out different attack approaches and configurations, your team can submit *up to three entries* for each leaderboard update (see Submit tab for details). \n",
    "    - You'll only be scored on your most successful attack, but we'll use all your submissions to understand our research problems better. Look through our Resources tab for links to a wide variety of libraries and reference ideas you can try out. See what works and what doesn't, and what's just weird.\n",
    "\n",
    "Have fun!   And thank you for helping us learn about privacy protection to support collaborative research on genomic data."
   ]
  },
  {
   "cell_type": "markdown",
   "id": "c1b6da7fcf248771",
   "metadata": {
    "ExecuteTime": {
     "end_time": "2025-03-09T12:52:21.465102Z",
     "start_time": "2025-03-09T12:52:21.462760Z"
    }
   },
   "source": [
    "### Notes\n",
    "\n",
    "- each model is trained to a specific client model - predicting membership in that particular client model\n",
    "\n",
    "- first goal is to predict the correct membership labels among the **\"relevant records\"**\n",
    "    - we trained on these as if they were all \"true\" members \n",
    "\n",
    "- second goal is to predict correct membeship among  \n",
    "\n"
   ]
  },
  {
   "cell_type": "code",
   "execution_count": null,
   "id": "52dd8cb6929e27c7",
   "metadata": {},
   "outputs": [],
   "source": []
  }
 ],
 "metadata": {
  "kernelspec": {
   "display_name": "ppflenv",
   "language": "python",
   "name": "python3"
  },
  "language_info": {
   "codemirror_mode": {
    "name": "ipython",
    "version": 3
   },
   "file_extension": ".py",
   "mimetype": "text/x-python",
   "name": "python",
   "nbconvert_exporter": "python",
   "pygments_lexer": "ipython3",
   "version": "3.11.5"
  }
 },
 "nbformat": 4,
 "nbformat_minor": 5
}
