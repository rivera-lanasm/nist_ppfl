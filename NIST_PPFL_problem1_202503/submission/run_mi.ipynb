{
 "cells": [
  {
   "cell_type": "code",
   "execution_count": 1,
   "metadata": {},
   "outputs": [
    {
     "name": "stdout",
     "output_type": "stream",
     "text": [
      "CWD After:  /home/rivlanm/projects/nist_ppfl/NIST_PPFL_problem1_202503\n"
     ]
    }
   ],
   "source": [
    "# Set new current working directory path\n",
    "import os\n",
    "from pathlib import Path\n",
    "\n",
    "os.chdir(Path.cwd().parent)\n",
    "print('CWD After: ', Path.cwd())"
   ]
  },
  {
   "cell_type": "code",
   "execution_count": 26,
   "metadata": {},
   "outputs": [],
   "source": [
    "import numpy as np\n",
    "import pandas as pd\n",
    "import pickle as pkl\n",
    "import json\n",
    "import torch\n",
    "import torch.nn as nn\n",
    "import torch.optim as optim\n",
    "from torchinfo import summary\n",
    "\n",
    "import matplotlib.pyplot as plt\n",
    "\n",
    "# ART membership inference helper methods \n",
    "from art.attacks.inference.membership_inference import MembershipInferenceBlackBox\n",
    "from art.estimators.classification import PyTorchClassifier\n",
    "\n",
    "# pre trained models \n",
    "from problem1.attack_targets.cnn.model import Net as cnn_Net\n",
    "from problem1.attack_targets.dpcnn10.model import Net as dpcnn10_Net\n",
    "from problem1.attack_targets.dpcnn200.model import Net as dpcnn200_Net\n",
    "\n",
    "# helper methods\n",
    "from utils import *\n"
   ]
  },
  {
   "cell_type": "markdown",
   "metadata": {},
   "source": [
    "## NIST Genomics PPFL Red Team Exercise\n",
    "### Introductory tutorial for performing Membership Inference Attack on CNN trained on Soybean Genomics data\n"
   ]
  },
  {
   "cell_type": "code",
   "execution_count": null,
   "metadata": {},
   "outputs": [],
   "source": [
    "MODEL_TYPE = 'dpcnn'  # or 'dpcnn'\n",
    "PRIVACY_TYPE = 'dpcnn200'  # 'cnn' (no privacy), 'dpcnn10' (epsilon 10), dpcnn200 (epsilon 200)"
   ]
  },
  {
   "cell_type": "code",
   "execution_count": null,
   "metadata": {},
   "outputs": [],
   "source": [
    "# Competitor should change these values to train the attack on different client models.\n",
    "# To attack different clients competitors can change the client_id.  \n",
    "# Competitors can change the model_type and privacy_type to test on different privacy levels. \n",
    "\n",
    "CLIENT_ID = '4'  # or '1', '2', '3'\n",
    "\n",
    "\n",
    "# Client model directory path\n",
    "model_dir = Path(f'problem1/attack_targets/{PRIVACY_TYPE}/client_{CLIENT_ID}')\n",
    "# Client model (.torch) path\n",
    "model_path = Path(model_dir, f'{MODEL_TYPE}_{CLIENT_ID}.torch')\n",
    "# Path to relevant records data file for the client model\n",
    "relevant_data_path = Path(model_dir, f'{MODEL_TYPE}_{CLIENT_ID}_relevant_records.dat')\n",
    "# Path to external records data file for the client model\n",
    "external_data_path = Path(model_dir, f'{MODEL_TYPE}_{CLIENT_ID}_external_records.dat')\n",
    "# Path to challenge records data file for the client model\n",
    "challenge_data_path = Path(model_dir.parent, f'{PRIVACY_TYPE}_challenge_records.dat')\n",
    "# Path to hyperparameters file for the client model\n",
    "hyperparameters_path = Path(model_dir, f'{MODEL_TYPE}_{CLIENT_ID}_hyperparameters.json')"
   ]
  },
  {
   "cell_type": "code",
   "execution_count": null,
   "metadata": {},
   "outputs": [
    {
     "name": "stdout",
     "output_type": "stream",
     "text": [
      "shape, relevant records: (23, 125766)\n",
      "shape, external records: (20, 125766)\n",
      "shape, challenge records: (73, 125766)\n"
     ]
    }
   ],
   "source": [
    "\n",
    "\n",
    "# Relevant records are those which an attacker might believe belongs to the client model. \n",
    "rel_x, rel_y = load_data(relevant_data_path)\n",
    "print(\"shape, relevant records: {}\".format(rel_x.shape))\n",
    "\n",
    "# External records are those which an attacker believes do not belong to the client model. See problem statement for details.\n",
    "ext_x, ext_y = load_data(external_data_path)\n",
    "print(\"shape, external records: {}\".format(ext_x.shape))\n",
    "\n",
    "# Challenge records are those for which the competitor need to classify. \n",
    "#   Each challenge record can be classified into 5 categories.\n",
    "#   If a challenge record belongs to the client model, the competitor should classify it as the client number (1, 2, 3, or 4). \n",
    "#   Otherwise, the competitor should classify it as 0 --> which means the record does not belong to any client model in the selected privacy level / privacy type.\n",
    "challenge_x, challenge_y = load_data(challenge_data_path)\n",
    "print(\"shape, challenge records: {}\".format(challenge_x.shape))\n",
    "\n"
   ]
  },
  {
   "cell_type": "code",
   "execution_count": null,
   "metadata": {},
   "outputs": [],
   "source": [
    "\n",
    "if PRIVACY_TYPE == \"cnn\":\n",
    "    model_class = cnn_Net\n",
    "elif PRIVACY_TYPE == \"dpcnn10\":\n",
    "    model_class = dpcnn10_Net\n",
    "elif PRIVACY_TYPE == \"dpcnn200\":\n",
    "    model_class = dpcnn200_Net\n",
    "else:\n",
    "    raise ValueError(\"invalid model type\")\n",
    "\n",
    "task_model = load_model(model_path=model_path, \n",
    "                        num_data_features=rel_x.shape[1], \n",
    "                        model_class=model_class)\n",
    "\n",
    "# These are hyperparameters used for training the client model\n",
    "hyperparams = load_hyperparameters(hyperparameters_path)\n",
    "\n",
    "# Define loss and other required hyperparameters\n",
    "criterion = nn.CrossEntropyLoss()\n",
    "optimizer_name = hyperparams['optimizer']\n",
    "learning_rate = hyperparams['learning rate']\n",
    "weight_decay = hyperparams['weight decay']\n",
    "num_classes = hyperparams['total classes']\n",
    "\n",
    "# Wrap client model in the ART PyTorch classifier\n",
    "\n",
    "# Select optimizer\n",
    "if optimizer_name == 'sgd':\n",
    "    optimizer = optim.SGD(task_model.parameters(), lr=learning_rate, weight_decay=weight_decay)\n",
    "else:\n",
    "    optimizer = optim.Adamax(task_model.parameters(), lr=learning_rate,  weight_decay=weight_decay)\n",
    "\n",
    "# Wrap client model in PyTorchClassifier\n",
    "classifier = PyTorchClassifier(\n",
    "    model=task_model,\n",
    "    loss=criterion,\n",
    "    optimizer=optimizer,\n",
    "    input_shape=(rel_x.shape[1],),\n",
    "    nb_classes=num_classes\n",
    "    )\n",
    "\n",
    "# Membership Inference Attack model hyperparameters\n",
    "attack_model_type = 'nn'\n",
    "attack_model_epochs = 100\n",
    "attack_model_batch_size = 100\n",
    "attack_model_learning_rate = 0.03\n",
    "\n",
    "# Create Membership Inference Black Box attack object\n",
    "attack_model = MembershipInferenceBlackBox(\n",
    "    # this is an initialized version of Client N's classification model\n",
    "    classifier,\n",
    "    # attack model will be a nn\n",
    "    attack_model_type=attack_model_type,\n",
    "    # 100\n",
    "    nn_model_epochs=attack_model_epochs,\n",
    "    # 100\n",
    "    nn_model_batch_size=attack_model_batch_size,\n",
    "    # 0.03\n",
    "    nn_model_learning_rate=attack_model_learning_rate\n",
    ")"
   ]
  },
  {
   "cell_type": "code",
   "execution_count": null,
   "metadata": {},
   "outputs": [],
   "source": [
    "# Get client model's predictions on relevant and external data\n",
    "rel_x_preds = task_model(rel_x).squeeze()\n",
    "ext_x_preds = task_model(ext_x).squeeze()\n",
    "rel_x_preds = rel_x_preds.detach().numpy()\n",
    "ext_x_preds = ext_x_preds.detach().numpy()\n",
    "\n",
    "# Train attack model by passing relevant set as x and external set as test_x\n",
    "attack_model.fit(\n",
    "    # features from relevant records \n",
    "    x=rel_x,\n",
    "    # outcome (soybean class) labels from relevant records\n",
    "    y=rel_y,\n",
    "    # features from external records\n",
    "    test_x=ext_x,\n",
    "    # outcome (soybean class) labels from external records\n",
    "    test_y=ext_y,\n",
    "    # prediction (logits) from pre trained classifier (for a given client) on relevant records \n",
    "    pred=rel_x_preds,\n",
    "    # prediction (logits) from pre trained classifier (for a given client) on external records \n",
    "    test_pred=ext_x_preds\n",
    ")\n",
    "\n",
    "# evaluate challenge records \n",
    "challenge_pred = attack_model.infer(x=challenge_x, y=challenge_y, probabilities=True)\n"
   ]
  },
  {
   "cell_type": "code",
   "execution_count": 15,
   "metadata": {},
   "outputs": [],
   "source": [
    "# evaluate challenge records \n",
    "challenge_pred = attack_model.infer(x=challenge_x, y=challenge_y, probabilities=True)\n"
   ]
  },
  {
   "cell_type": "code",
   "execution_count": 28,
   "metadata": {},
   "outputs": [
    {
     "data": {
      "text/plain": [
       "<Axes: >"
      ]
     },
     "execution_count": 28,
     "metadata": {},
     "output_type": "execute_result"
    },
    {
     "data": {
      "image/png": "[encoded data removed]",
      "text/plain": [
       "<Figure size 640x480 with 1 Axes>"
      ]
     },
     "metadata": {},
     "output_type": "display_data"
    }
   ],
   "source": [
    "pd.Series(challenge_pred.reshape(1,-1)[0]).hist()"
   ]
  },
  {
   "cell_type": "markdown",
   "metadata": {},
   "source": [
    "Note on Data Submission:\n",
    "\n",
    "The list above contains the indices of the challenge records that the attack model has identified as potential members of the client_id task model. If you believe these indices correspond to actual member records of the tested client model, you should enter it as your prediction for that challenge record in the problem's submission_file.\n",
    "\n",
    "The submission file consists of two columns: 1) INDEX 2) PREDICTION \n",
    "\n",
    "the first column is the challenge record index, and the second column is the prediction. If you believe the record was a member of some client's training data, enter the client number (1, 2, 3, 4) . However, if you determine that a challenge data index does not belong to any client model, enter '0' as the prediction for that index.\n",
    "\n",
    "submission link\n",
    "\n",
    "https://docs.google.com/forms/d/e/1FAIpQLSfGlDfuaDCJfId3Lv_45V5F4oYswUaulyGMVn_CD55_cRieQw/viewform"
   ]
  },
  {
   "cell_type": "code",
   "execution_count": null,
   "metadata": {},
   "outputs": [],
   "source": [
    "# assign to client 1, 2, 3, 4, or none (0)"
   ]
  },
  {
   "cell_type": "markdown",
   "metadata": {},
   "source": [
    "# Evaluate Example \n",
    "\n",
    "Challenge data answers are only provided for client_id 4."
   ]
  },
  {
   "cell_type": "code",
   "execution_count": null,
   "metadata": {},
   "outputs": [],
   "source": [
    "# Infer membership on relevant and external data\n",
    "atk_rel_preds = attack_model.infer(x=rel_x, y=rel_y)\n",
    "atk_ext_preds = attack_model.infer(x=ext_x, y=ext_y)\n",
    "\n",
    "# retrieve confidence from inferencae\n",
    "# infer_preds = atk_m.infer(x=tx, y=ty, probabilities=True)\n",
    "\n",
    "# external data for an attack model only has non-members records.\n",
    "# Find the number of non-members predicted by the attack model\n",
    "external_correct = np.sum((atk_ext_preds == 0))\n",
    "\n",
    "# Calculate accuracy on external data\n",
    "external_accuracy = external_correct / len(atk_ext_preds)\n",
    "\n",
    "print('Attack Model Accuracy on External Data: ', round(external_accuracy, 2))"
   ]
  },
  {
   "cell_type": "code",
   "execution_count": null,
   "metadata": {},
   "outputs": [],
   "source": []
  },
  {
   "cell_type": "code",
   "execution_count": null,
   "metadata": {},
   "outputs": [],
   "source": [
    "# Challenge data answers are only provided for client_id 4."
   ]
  }
 ],
 "metadata": {
  "kernelspec": {
   "display_name": "ppflenv",
   "language": "python",
   "name": "python3"
  },
  "language_info": {
   "codemirror_mode": {
    "name": "ipython",
    "version": 3
   },
   "file_extension": ".py",
   "mimetype": "text/x-python",
   "name": "python",
   "nbconvert_exporter": "python",
   "pygments_lexer": "ipython3",
   "version": "3.11.5"
  }
 },
 "nbformat": 4,
 "nbformat_minor": 2
}
